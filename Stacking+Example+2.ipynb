{
 "cells": [
  {
   "cell_type": "markdown",
   "metadata": {},
   "source": [
    "# Load libraries and summary functions"
   ]
  },
  {
   "cell_type": "code",
   "execution_count": 372,
   "metadata": {
    "collapsed": true
   },
   "outputs": [],
   "source": [
    "#Reference http://blog.kaggle.com/2016/12/27/a-kagglers-guide-to-model-stacking-in-practice/"
   ]
  },
  {
   "cell_type": "code",
   "execution_count": 373,
   "metadata": {
    "collapsed": true
   },
   "outputs": [],
   "source": [
    "#In this example when we a fit base model during cv we also run the prediction on the test data\n",
    "#We then take a vote to from all the base cv models to make a prediction for the test data\n",
    "#(This is mentioned in the link above)"
   ]
  },
  {
   "cell_type": "code",
   "execution_count": 374,
   "metadata": {
    "collapsed": true
   },
   "outputs": [],
   "source": [
    "suppressMessages({\n",
    "library(dplyr) # for data manipulation\n",
    "library(caret) # for model-building\n",
    "library(pROC) # for AUC calculations\n",
    "library(PRROC) # for Precision-Recall curve calculations\n",
    "library(magrittr) # for pipes\n",
    "})"
   ]
  },
  {
   "cell_type": "code",
   "execution_count": 375,
   "metadata": {
    "collapsed": true
   },
   "outputs": [],
   "source": [
    "options(repr.matrix.max.cols=50)\n",
    "options(repr.matrix.max.rows=50)"
   ]
  },
  {
   "cell_type": "code",
   "execution_count": 376,
   "metadata": {
    "collapsed": true
   },
   "outputs": [],
   "source": [
    "set.seed(45406)"
   ]
  },
  {
   "cell_type": "code",
   "execution_count": 377,
   "metadata": {
    "collapsed": true
   },
   "outputs": [],
   "source": [
    "#Class1 == 0\n",
    "#Calss2 == 1\n",
    "\n",
    "aucSummary <- function(data, lev = NULL, model = NULL){\n",
    "  \n",
    "  index_class2 <- data$obs == \"Class2\"\n",
    "  index_class1 <- data$obs == \"Class1\"\n",
    "  \n",
    "  #calc the auc metrics\n",
    "  pr <- pr.curve(data$Class2[index_class2],\n",
    "                 data$Class2[index_class1],\n",
    "                 curve = FALSE)\n",
    "  \n",
    "  roc <- roc.curve(data$Class2[index_class2],\n",
    "                   data$Class2[index_class1],\n",
    "                   curve = FALSE)\n",
    "  \n",
    "  pr_out <- pr$auc.integral\n",
    "  \n",
    "  roc_out <- roc$auc\n",
    "  \n",
    "  obs <- data$obs\n",
    "  \n",
    "  \n",
    "  #Assign threshold\n",
    "  pre <- ifelse(data$Class2 > .5, 'Class2', 'Class1')\n",
    "  \n",
    "  #Calculate Accuracy  \n",
    "  acc <- mean(obs == pre)\n",
    "  \n",
    "  out <- c(pr_out,roc_out,acc)  \n",
    "  \n",
    "  names(out) <-c(\"AUPRC\",\"AUROC\",\"Accuracy\")\n",
    "  \n",
    "  out  \n",
    "}"
   ]
  },
  {
   "cell_type": "code",
   "execution_count": 378,
   "metadata": {
    "collapsed": true
   },
   "outputs": [],
   "source": [
    "#Returns non empty sting with most occurrences in a vector \n",
    "ModeChar <- function(x){\n",
    "  \n",
    "  #Get rid of NA or empty values\n",
    "  x <- x[!(x %in% c('',' ','NA','N/A','na','n/a'))]\n",
    "\n",
    "  \n",
    "  dd <- unique(x)\n",
    "  D <- dd[which.max(tabulate(match(x,dd)))]\n",
    "  \n",
    "    \n",
    "  if(is.na(D)){\n",
    "    D <- ' '\n",
    "    as.character(D)\n",
    "  }\n",
    "  if(!is.na(D)){\n",
    "    as.character(D)\n",
    "  }\n",
    "   \n",
    "}"
   ]
  },
  {
   "cell_type": "code",
   "execution_count": 379,
   "metadata": {
    "collapsed": true
   },
   "outputs": [],
   "source": [
    "#Returns non empty vector with the most occurrences from rows in a df\n",
    "ModeRow <- function(df){\n",
    "  \n",
    "  length <- dim(df)[1]\n",
    "    \n",
    "  ModeCol <- c()  \n",
    "\n",
    "  for(x in 1:length){\n",
    "    \n",
    "     Mode <-  ModeChar( df[x,] )\n",
    "      \n",
    "     ModeCol <-c(ModeCol,Mode) \n",
    "  }\n",
    "  \n",
    "  ModeCol\n",
    "}"
   ]
  },
  {
   "cell_type": "markdown",
   "metadata": {},
   "source": [
    "# Create test/train data sets"
   ]
  },
  {
   "cell_type": "code",
   "execution_count": 380,
   "metadata": {
    "collapsed": true
   },
   "outputs": [],
   "source": [
    "#Create data set\n",
    "data_set <- twoClassSim(1000,\n",
    "                    intercept = -6,\n",
    "                    linearVars = 8,\n",
    "                    noiseVars = 4)"
   ]
  },
  {
   "cell_type": "code",
   "execution_count": 381,
   "metadata": {
    "collapsed": true
   },
   "outputs": [],
   "source": [
    "#Create train/tests sets\n",
    "index <- createDataPartition(data_set$Class, p = 6/10, list=FALSE)\n",
    "\n",
    "train_set <- data_set[index,]\n",
    "test_set <- data_set[-index,]"
   ]
  },
  {
   "cell_type": "code",
   "execution_count": 382,
   "metadata": {},
   "outputs": [
    {
     "data": {
      "text/html": [
       "<ol class=list-inline>\n",
       "\t<li>601</li>\n",
       "\t<li>18</li>\n",
       "</ol>\n"
      ],
      "text/latex": [
       "\\begin{enumerate*}\n",
       "\\item 601\n",
       "\\item 18\n",
       "\\end{enumerate*}\n"
      ],
      "text/markdown": [
       "1. 601\n",
       "2. 18\n",
       "\n",
       "\n"
      ],
      "text/plain": [
       "[1] 601  18"
      ]
     },
     "metadata": {},
     "output_type": "display_data"
    },
    {
     "data": {
      "text/html": [
       "<table>\n",
       "<thead><tr><th></th><th scope=col>TwoFactor1</th><th scope=col>TwoFactor2</th><th scope=col>Linear1</th><th scope=col>Linear2</th><th scope=col>Linear3</th><th scope=col>Linear4</th><th scope=col>Linear5</th><th scope=col>Linear6</th><th scope=col>Linear7</th><th scope=col>Linear8</th><th scope=col>Nonlinear1</th><th scope=col>Nonlinear2</th><th scope=col>Nonlinear3</th><th scope=col>Noise1</th><th scope=col>Noise2</th><th scope=col>Noise3</th><th scope=col>Noise4</th><th scope=col>Class</th></tr></thead>\n",
       "<tbody>\n",
       "\t<tr><th scope=row>2</th><td> 0.8097223 </td><td> 1.47437548</td><td>-0.8076689 </td><td>-1.1319747 </td><td>-0.2866550 </td><td> 1.78247610</td><td> 0.16440952</td><td> 0.26069540</td><td> 0.5582444 </td><td>-0.8972071 </td><td>-0.04248304</td><td>0.9344437  </td><td>0.91795414 </td><td> 0.8458606 </td><td> 1.7498821 </td><td> 1.6652243 </td><td> 0.5959273 </td><td>Class1     </td></tr>\n",
       "\t<tr><th scope=row>3</th><td> 1.2387178 </td><td> 0.01599239</td><td>-1.2053774 </td><td>-1.0802625 </td><td> 2.2725103 </td><td>-0.31690291</td><td> 1.07191422</td><td>-0.52142051</td><td> 1.0209103 </td><td> 0.8011080 </td><td>-0.68616298</td><td>0.3735412  </td><td>0.60716965 </td><td>-0.6950674 </td><td>-0.1531351 </td><td>-0.1616989 </td><td> 1.7063336 </td><td>Class1     </td></tr>\n",
       "\t<tr><th scope=row>5</th><td>-0.5131204 </td><td> 0.25986890</td><td> 1.5314869 </td><td>-0.4635079 </td><td> 1.5407780 </td><td>-1.36485763</td><td>-2.01751135</td><td>-0.04614105</td><td> 0.2751114 </td><td> 0.4361813 </td><td> 0.44862104</td><td>0.8372881  </td><td>0.91693135 </td><td>-0.1913738 </td><td> 0.6197387 </td><td>-1.2638430 </td><td>-0.1050231 </td><td>Class2     </td></tr>\n",
       "\t<tr><th scope=row>6</th><td> 1.0278531 </td><td> 1.61567486</td><td>-0.1555739 </td><td> 0.4161480 </td><td>-0.1254957 </td><td> 0.07546147</td><td> 0.93962369</td><td>-1.52580671</td><td>-0.1069174 </td><td>-0.7167698 </td><td>-0.66104746</td><td>0.4615281  </td><td>0.14162099 </td><td>-1.3987289 </td><td> 0.8233420 </td><td> 0.5832635 </td><td> 1.0977854 </td><td>Class2     </td></tr>\n",
       "\t<tr><th scope=row>7</th><td> 1.3514164 </td><td> 0.15930289</td><td>-0.9060178 </td><td> 0.9092948 </td><td>-0.0106088 </td><td>-0.17534387</td><td> 0.06520887</td><td> 0.16230173</td><td>-0.9382551 </td><td>-1.0432937 </td><td> 0.01796992</td><td>0.9273337  </td><td>0.18118455 </td><td>-0.2059794 </td><td> 0.3343527 </td><td>-0.5753191 </td><td>-0.9176470 </td><td>Class1     </td></tr>\n",
       "\t<tr><th scope=row>8</th><td>-0.3416407 </td><td>-3.37577238</td><td> 0.5900949 </td><td> 2.0505353 </td><td> 0.2392311 </td><td> 0.53155128</td><td>-0.68023745</td><td> 1.96639816</td><td> 1.4230917 </td><td> 1.2681464 </td><td>-0.95171187</td><td>0.8373439  </td><td>0.05076276 </td><td> 1.6775790 </td><td>-1.4540916 </td><td> 0.1381279 </td><td>-0.2966907 </td><td>Class1     </td></tr>\n",
       "</tbody>\n",
       "</table>\n"
      ],
      "text/latex": [
       "\\begin{tabular}{r|llllllllllllllllll}\n",
       "  & TwoFactor1 & TwoFactor2 & Linear1 & Linear2 & Linear3 & Linear4 & Linear5 & Linear6 & Linear7 & Linear8 & Nonlinear1 & Nonlinear2 & Nonlinear3 & Noise1 & Noise2 & Noise3 & Noise4 & Class\\\\\n",
       "\\hline\n",
       "\t2 &  0.8097223  &  1.47437548 & -0.8076689  & -1.1319747  & -0.2866550  &  1.78247610 &  0.16440952 &  0.26069540 &  0.5582444  & -0.8972071  & -0.04248304 & 0.9344437   & 0.91795414  &  0.8458606  &  1.7498821  &  1.6652243  &  0.5959273  & Class1     \\\\\n",
       "\t3 &  1.2387178  &  0.01599239 & -1.2053774  & -1.0802625  &  2.2725103  & -0.31690291 &  1.07191422 & -0.52142051 &  1.0209103  &  0.8011080  & -0.68616298 & 0.3735412   & 0.60716965  & -0.6950674  & -0.1531351  & -0.1616989  &  1.7063336  & Class1     \\\\\n",
       "\t5 & -0.5131204  &  0.25986890 &  1.5314869  & -0.4635079  &  1.5407780  & -1.36485763 & -2.01751135 & -0.04614105 &  0.2751114  &  0.4361813  &  0.44862104 & 0.8372881   & 0.91693135  & -0.1913738  &  0.6197387  & -1.2638430  & -0.1050231  & Class2     \\\\\n",
       "\t6 &  1.0278531  &  1.61567486 & -0.1555739  &  0.4161480  & -0.1254957  &  0.07546147 &  0.93962369 & -1.52580671 & -0.1069174  & -0.7167698  & -0.66104746 & 0.4615281   & 0.14162099  & -1.3987289  &  0.8233420  &  0.5832635  &  1.0977854  & Class2     \\\\\n",
       "\t7 &  1.3514164  &  0.15930289 & -0.9060178  &  0.9092948  & -0.0106088  & -0.17534387 &  0.06520887 &  0.16230173 & -0.9382551  & -1.0432937  &  0.01796992 & 0.9273337   & 0.18118455  & -0.2059794  &  0.3343527  & -0.5753191  & -0.9176470  & Class1     \\\\\n",
       "\t8 & -0.3416407  & -3.37577238 &  0.5900949  &  2.0505353  &  0.2392311  &  0.53155128 & -0.68023745 &  1.96639816 &  1.4230917  &  1.2681464  & -0.95171187 & 0.8373439   & 0.05076276  &  1.6775790  & -1.4540916  &  0.1381279  & -0.2966907  & Class1     \\\\\n",
       "\\end{tabular}\n"
      ],
      "text/markdown": [
       "\n",
       "| <!--/--> | TwoFactor1 | TwoFactor2 | Linear1 | Linear2 | Linear3 | Linear4 | Linear5 | Linear6 | Linear7 | Linear8 | Nonlinear1 | Nonlinear2 | Nonlinear3 | Noise1 | Noise2 | Noise3 | Noise4 | Class | \n",
       "|---|---|---|---|---|---|\n",
       "| 2 |  0.8097223  |  1.47437548 | -0.8076689  | -1.1319747  | -0.2866550  |  1.78247610 |  0.16440952 |  0.26069540 |  0.5582444  | -0.8972071  | -0.04248304 | 0.9344437   | 0.91795414  |  0.8458606  |  1.7498821  |  1.6652243  |  0.5959273  | Class1      | \n",
       "| 3 |  1.2387178  |  0.01599239 | -1.2053774  | -1.0802625  |  2.2725103  | -0.31690291 |  1.07191422 | -0.52142051 |  1.0209103  |  0.8011080  | -0.68616298 | 0.3735412   | 0.60716965  | -0.6950674  | -0.1531351  | -0.1616989  |  1.7063336  | Class1      | \n",
       "| 5 | -0.5131204  |  0.25986890 |  1.5314869  | -0.4635079  |  1.5407780  | -1.36485763 | -2.01751135 | -0.04614105 |  0.2751114  |  0.4361813  |  0.44862104 | 0.8372881   | 0.91693135  | -0.1913738  |  0.6197387  | -1.2638430  | -0.1050231  | Class2      | \n",
       "| 6 |  1.0278531  |  1.61567486 | -0.1555739  |  0.4161480  | -0.1254957  |  0.07546147 |  0.93962369 | -1.52580671 | -0.1069174  | -0.7167698  | -0.66104746 | 0.4615281   | 0.14162099  | -1.3987289  |  0.8233420  |  0.5832635  |  1.0977854  | Class2      | \n",
       "| 7 |  1.3514164  |  0.15930289 | -0.9060178  |  0.9092948  | -0.0106088  | -0.17534387 |  0.06520887 |  0.16230173 | -0.9382551  | -1.0432937  |  0.01796992 | 0.9273337   | 0.18118455  | -0.2059794  |  0.3343527  | -0.5753191  | -0.9176470  | Class1      | \n",
       "| 8 | -0.3416407  | -3.37577238 |  0.5900949  |  2.0505353  |  0.2392311  |  0.53155128 | -0.68023745 |  1.96639816 |  1.4230917  |  1.2681464  | -0.95171187 | 0.8373439   | 0.05076276  |  1.6775790  | -1.4540916  |  0.1381279  | -0.2966907  | Class1      | \n",
       "\n",
       "\n"
      ],
      "text/plain": [
       "  TwoFactor1 TwoFactor2  Linear1    Linear2    Linear3    Linear4    \n",
       "2  0.8097223  1.47437548 -0.8076689 -1.1319747 -0.2866550  1.78247610\n",
       "3  1.2387178  0.01599239 -1.2053774 -1.0802625  2.2725103 -0.31690291\n",
       "5 -0.5131204  0.25986890  1.5314869 -0.4635079  1.5407780 -1.36485763\n",
       "6  1.0278531  1.61567486 -0.1555739  0.4161480 -0.1254957  0.07546147\n",
       "7  1.3514164  0.15930289 -0.9060178  0.9092948 -0.0106088 -0.17534387\n",
       "8 -0.3416407 -3.37577238  0.5900949  2.0505353  0.2392311  0.53155128\n",
       "  Linear5     Linear6     Linear7    Linear8    Nonlinear1  Nonlinear2\n",
       "2  0.16440952  0.26069540  0.5582444 -0.8972071 -0.04248304 0.9344437 \n",
       "3  1.07191422 -0.52142051  1.0209103  0.8011080 -0.68616298 0.3735412 \n",
       "5 -2.01751135 -0.04614105  0.2751114  0.4361813  0.44862104 0.8372881 \n",
       "6  0.93962369 -1.52580671 -0.1069174 -0.7167698 -0.66104746 0.4615281 \n",
       "7  0.06520887  0.16230173 -0.9382551 -1.0432937  0.01796992 0.9273337 \n",
       "8 -0.68023745  1.96639816  1.4230917  1.2681464 -0.95171187 0.8373439 \n",
       "  Nonlinear3 Noise1     Noise2     Noise3     Noise4     Class \n",
       "2 0.91795414  0.8458606  1.7498821  1.6652243  0.5959273 Class1\n",
       "3 0.60716965 -0.6950674 -0.1531351 -0.1616989  1.7063336 Class1\n",
       "5 0.91693135 -0.1913738  0.6197387 -1.2638430 -0.1050231 Class2\n",
       "6 0.14162099 -1.3987289  0.8233420  0.5832635  1.0977854 Class2\n",
       "7 0.18118455 -0.2059794  0.3343527 -0.5753191 -0.9176470 Class1\n",
       "8 0.05076276  1.6775790 -1.4540916  0.1381279 -0.2966907 Class1"
      ]
     },
     "metadata": {},
     "output_type": "display_data"
    }
   ],
   "source": [
    "#Look at dim\n",
    "train_set %>% dim()\n",
    "\n",
    "train_set %>% head()"
   ]
  },
  {
   "cell_type": "markdown",
   "metadata": {},
   "source": [
    "# Use cv to find the best parameters for thebase models\n"
   ]
  },
  {
   "cell_type": "code",
   "execution_count": 383,
   "metadata": {
    "collapsed": true
   },
   "outputs": [],
   "source": [
    "#Independent and dependent variables\n",
    "X = 1:17\n",
    "Y = 'Class'"
   ]
  },
  {
   "cell_type": "code",
   "execution_count": 384,
   "metadata": {
    "collapsed": true
   },
   "outputs": [],
   "source": [
    "ctrl <- trainControl(method = \"repeatedcv\",\n",
    "                     number = 5,\n",
    "                     repeats = 2,\n",
    "                     summaryFunction = aucSummary,\n",
    "                     classProbs = TRUE)"
   ]
  },
  {
   "cell_type": "code",
   "execution_count": 385,
   "metadata": {
    "collapsed": true
   },
   "outputs": [],
   "source": [
    "base_rf <- train(x=train_set[,X],\n",
    "      y=train_set[,Y],\n",
    "      method = \"rf\",\n",
    "      trControl = ctrl,\n",
    "      metric = \"Accuracy\",\n",
    "      allowParallel = TRUE)"
   ]
  },
  {
   "cell_type": "code",
   "execution_count": 386,
   "metadata": {},
   "outputs": [
    {
     "data": {
      "text/plain": [
       "Random Forest \n",
       "\n",
       "601 samples\n",
       " 17 predictor\n",
       "  2 classes: 'Class1', 'Class2' \n",
       "\n",
       "No pre-processing\n",
       "Resampling: Cross-Validated (5 fold, repeated 2 times) \n",
       "Summary of sample sizes: 481, 480, 482, 480, 481, 480, ... \n",
       "Resampling results across tuning parameters:\n",
       "\n",
       "  mtry  AUPRC      AUROC      Accuracy \n",
       "   2    0.8814762  0.9094983  0.8170681\n",
       "   9    0.8685270  0.9023988  0.8269989\n",
       "  17    0.8489735  0.8889804  0.8186792\n",
       "\n",
       "Accuracy was used to select the optimal model using  the largest value.\n",
       "The final value used for the model was mtry = 9."
      ]
     },
     "metadata": {},
     "output_type": "display_data"
    }
   ],
   "source": [
    "base_rf"
   ]
  },
  {
   "cell_type": "code",
   "execution_count": 387,
   "metadata": {},
   "outputs": [
    {
     "data": {
      "text/html": [
       "<table>\n",
       "<thead><tr><th></th><th scope=col>mtry</th></tr></thead>\n",
       "<tbody>\n",
       "\t<tr><th scope=row>2</th><td>9</td></tr>\n",
       "</tbody>\n",
       "</table>\n"
      ],
      "text/latex": [
       "\\begin{tabular}{r|l}\n",
       "  & mtry\\\\\n",
       "\\hline\n",
       "\t2 & 9\\\\\n",
       "\\end{tabular}\n"
      ],
      "text/markdown": [
       "\n",
       "| <!--/--> | mtry | \n",
       "|---|\n",
       "| 2 | 9 | \n",
       "\n",
       "\n"
      ],
      "text/plain": [
       "  mtry\n",
       "2 9   "
      ]
     },
     "metadata": {},
     "output_type": "display_data"
    }
   ],
   "source": [
    "base_rf$bestTune"
   ]
  },
  {
   "cell_type": "code",
   "execution_count": 388,
   "metadata": {
    "collapsed": true
   },
   "outputs": [],
   "source": [
    "base_gbm <- train(x=train_set[,X],\n",
    "      y=train_set[,Y],\n",
    "      method = \"gbm\",\n",
    "      trControl = ctrl,\n",
    "      metric = \"Accuracy\",\n",
    "      verbose = FALSE)"
   ]
  },
  {
   "cell_type": "code",
   "execution_count": 389,
   "metadata": {},
   "outputs": [
    {
     "data": {
      "text/plain": [
       "Stochastic Gradient Boosting \n",
       "\n",
       "601 samples\n",
       " 17 predictor\n",
       "  2 classes: 'Class1', 'Class2' \n",
       "\n",
       "No pre-processing\n",
       "Resampling: Cross-Validated (5 fold, repeated 2 times) \n",
       "Summary of sample sizes: 481, 482, 480, 481, 480, 480, ... \n",
       "Resampling results across tuning parameters:\n",
       "\n",
       "  interaction.depth  n.trees  AUPRC      AUROC      Accuracy \n",
       "  1                   50      0.8555833  0.8884066  0.8127909\n",
       "  1                  100      0.8988430  0.9203945  0.8394240\n",
       "  1                  150      0.9122358  0.9327877  0.8543761\n",
       "  2                   50      0.8941225  0.9197675  0.8369240\n",
       "  2                  100      0.9187043  0.9402239  0.8559870\n",
       "  2                  150      0.9235559  0.9453067  0.8668763\n",
       "  3                   50      0.9070120  0.9309715  0.8477093\n",
       "  3                  100      0.9242064  0.9452826  0.8593623\n",
       "  3                  150      0.9253258  0.9466818  0.8668835\n",
       "\n",
       "Tuning parameter 'shrinkage' was held constant at a value of 0.1\n",
       "\n",
       "Tuning parameter 'n.minobsinnode' was held constant at a value of 10\n",
       "Accuracy was used to select the optimal model using  the largest value.\n",
       "The final values used for the model were n.trees = 150, interaction.depth =\n",
       " 3, shrinkage = 0.1 and n.minobsinnode = 10."
      ]
     },
     "metadata": {},
     "output_type": "display_data"
    }
   ],
   "source": [
    "base_gbm"
   ]
  },
  {
   "cell_type": "code",
   "execution_count": 390,
   "metadata": {},
   "outputs": [
    {
     "data": {
      "text/html": [
       "<table>\n",
       "<thead><tr><th></th><th scope=col>n.trees</th><th scope=col>interaction.depth</th><th scope=col>shrinkage</th><th scope=col>n.minobsinnode</th></tr></thead>\n",
       "<tbody>\n",
       "\t<tr><th scope=row>9</th><td>150</td><td>3  </td><td>0.1</td><td>10 </td></tr>\n",
       "</tbody>\n",
       "</table>\n"
      ],
      "text/latex": [
       "\\begin{tabular}{r|llll}\n",
       "  & n.trees & interaction.depth & shrinkage & n.minobsinnode\\\\\n",
       "\\hline\n",
       "\t9 & 150 & 3   & 0.1 & 10 \\\\\n",
       "\\end{tabular}\n"
      ],
      "text/markdown": [
       "\n",
       "| <!--/--> | n.trees | interaction.depth | shrinkage | n.minobsinnode | \n",
       "|---|\n",
       "| 9 | 150 | 3   | 0.1 | 10  | \n",
       "\n",
       "\n"
      ],
      "text/plain": [
       "  n.trees interaction.depth shrinkage n.minobsinnode\n",
       "9 150     3                 0.1       10            "
      ]
     },
     "metadata": {},
     "output_type": "display_data"
    }
   ],
   "source": [
    "base_gbm$bestTune"
   ]
  },
  {
   "cell_type": "markdown",
   "metadata": {},
   "source": [
    "# Stack"
   ]
  },
  {
   "cell_type": "code",
   "execution_count": 391,
   "metadata": {
    "collapsed": true
   },
   "outputs": [],
   "source": [
    "#Create folds for the stack\n",
    "n=3\n",
    "\n",
    "folds <- createFolds(train_set$Class,n)\n",
    "\n",
    "train_set$foldID <- 0\n",
    "\n",
    "\n",
    "for(i in 1:n){\n",
    "    \n",
    "   train_set[folds[[i]],]$foldID <- i\n",
    "    \n",
    "}"
   ]
  },
  {
   "cell_type": "code",
   "execution_count": 392,
   "metadata": {
    "collapsed": true
   },
   "outputs": [],
   "source": [
    "#Attach the rf output to the train set\n",
    "train_set$rf <- 'Place_Holder'\n",
    "\n",
    "for(i in 1:n){\n",
    "    \n",
    "    train <- train_set[train_set$foldID !=i,]\n",
    "    \n",
    "    \n",
    "    tune_g <- base_rf$bestTune\n",
    "    \n",
    "    rf_train <- train(x=train[,X],\n",
    "                 y=train[,Y],\n",
    "                 method = \"rf\",\n",
    "                 verbose = FALSE,\n",
    "                 tuneGrid = tune_g,\n",
    "                 allowParallel = TRUE)\n",
    "    \n",
    "    train_set[train_set$foldID == i,]$rf <- as.character( predict(rf_train, train_set[train_set$foldID == i,]) )\n",
    "    \n",
    "    #fit model to test data at each cv fold\n",
    "    test_set[,paste0('rf',i)] <-  as.character( predict(rf_train, test_set) )\n",
    "\n",
    "\n",
    "}"
   ]
  },
  {
   "cell_type": "code",
   "execution_count": 393,
   "metadata": {
    "collapsed": true
   },
   "outputs": [],
   "source": [
    "#Attach the gbm output to the train set\n",
    "train_set$gbm <- 'Place_Holder'\n",
    "\n",
    "for(i in 1:n){\n",
    "    \n",
    "    train <- train_set[train_set$foldID !=i,]\n",
    "    \n",
    "    \n",
    "    tune_g <- base_gbm$bestTune\n",
    "    \n",
    "    gbm_train <- train(x=train[,X],\n",
    "                 y=train[,Y],\n",
    "                 method = \"gbm\",\n",
    "                 verbose = FALSE,\n",
    "                 tuneGrid = tune_g)\n",
    "    \n",
    "    train_set[train_set$foldID == i,]$gbm <- as.character( predict(gbm_train, train_set[train_set$foldID == i,]) )\n",
    "    \n",
    "    #fit model to test data at each cv fold\n",
    "    test_set[,paste0('gbm',i)] <- as.character( predict(gbm_train, test_set) )\n",
    "\n",
    "    \n",
    "}"
   ]
  },
  {
   "cell_type": "markdown",
   "metadata": {},
   "source": [
    "# Compare Models"
   ]
  },
  {
   "cell_type": "code",
   "execution_count": 394,
   "metadata": {
    "collapsed": true
   },
   "outputs": [],
   "source": [
    "#Campre the base rf, gbm to a glm and the stacked glm"
   ]
  },
  {
   "cell_type": "code",
   "execution_count": 395,
   "metadata": {
    "collapsed": true
   },
   "outputs": [],
   "source": [
    "#Fit the models to the training data"
   ]
  },
  {
   "cell_type": "code",
   "execution_count": 396,
   "metadata": {
    "collapsed": true
   },
   "outputs": [],
   "source": [
    "tune_g <- base_rf$bestTune\n",
    "\n",
    "rf_fit <- train(x=train_set[,X],\n",
    "      y=train_set[,Y],\n",
    "      method = \"rf\",\n",
    "      metric = \"Accuracy\",\n",
    "      tuneGrid = tune_g,\n",
    "      allowParallel = TRUE)"
   ]
  },
  {
   "cell_type": "code",
   "execution_count": 397,
   "metadata": {
    "collapsed": true
   },
   "outputs": [],
   "source": [
    "tune_g <- base_gbm$bestTune\n",
    "\n",
    "gbm_fit <- train(x=train_set[,X],\n",
    "      y=train_set[,Y],\n",
    "      method = \"gbm\",\n",
    "      metric = \"Accuracy\",\n",
    "      tuneGrid = tune_g,\n",
    "      verbose = FALSE)"
   ]
  },
  {
   "cell_type": "code",
   "execution_count": 398,
   "metadata": {
    "collapsed": true
   },
   "outputs": [],
   "source": [
    "glm_fit <- train(x=train_set[,X],\n",
    "      y=train_set[,Y],\n",
    "      method = \"glm\",\n",
    "      metric = \"Accuracy\")"
   ]
  },
  {
   "cell_type": "code",
   "execution_count": 399,
   "metadata": {},
   "outputs": [
    {
     "data": {
      "text/html": [
       "20"
      ],
      "text/latex": [
       "20"
      ],
      "text/markdown": [
       "20"
      ],
      "text/plain": [
       "[1] 20"
      ]
     },
     "metadata": {},
     "output_type": "display_data"
    },
    {
     "data": {
      "text/html": [
       "21"
      ],
      "text/latex": [
       "21"
      ],
      "text/markdown": [
       "21"
      ],
      "text/plain": [
       "[1] 21"
      ]
     },
     "metadata": {},
     "output_type": "display_data"
    }
   ],
   "source": [
    "which(colnames(train_set) == 'rf')\n",
    "which(colnames(train_set) == 'gbm')"
   ]
  },
  {
   "cell_type": "code",
   "execution_count": 400,
   "metadata": {
    "collapsed": true
   },
   "outputs": [],
   "source": [
    "glm_stack_fit <- train(x=train_set[,c(X,20,21)],\n",
    "      y=train_set[,Y],\n",
    "      method = \"glm\",\n",
    "      metric = \"Accuracy\")"
   ]
  },
  {
   "cell_type": "code",
   "execution_count": 401,
   "metadata": {
    "collapsed": true
   },
   "outputs": [],
   "source": [
    "#Attach rf and gbm to the test_set for the model stacking\n",
    "\n",
    "#base rf\n",
    "test_set$rf <- ModeRow(test_set[,c('rf1','rf2','rf3')])\n",
    "\n",
    "#base_gbm\n",
    "test_set$gbm <- ModeRow(test_set[,c('gbm1','gbm2','gbm3')])"
   ]
  },
  {
   "cell_type": "code",
   "execution_count": 402,
   "metadata": {
    "collapsed": true
   },
   "outputs": [],
   "source": [
    "#Run the predictions on the test set\n",
    "test_set$rf_base <- predict(rf_fit, test_set)\n",
    "\n",
    "test_set$gbm_base <- predict(gbm_fit, test_set)\n",
    "\n",
    "test_set$glm <- predict(glm_fit, test_set)\n",
    "\n",
    "test_set$glm_stack <- predict(glm_stack_fit, test_set)"
   ]
  },
  {
   "cell_type": "code",
   "execution_count": 403,
   "metadata": {},
   "outputs": [
    {
     "name": "stdout",
     "output_type": "stream",
     "text": [
      "rf base"
     ]
    },
    {
     "data": {
      "text/html": [
       "0.842105263157895"
      ],
      "text/latex": [
       "0.842105263157895"
      ],
      "text/markdown": [
       "0.842105263157895"
      ],
      "text/plain": [
       "[1] 0.8421053"
      ]
     },
     "metadata": {},
     "output_type": "display_data"
    },
    {
     "name": "stdout",
     "output_type": "stream",
     "text": [
      "rf cv"
     ]
    },
    {
     "data": {
      "text/html": [
       "0.847117794486215"
      ],
      "text/latex": [
       "0.847117794486215"
      ],
      "text/markdown": [
       "0.847117794486215"
      ],
      "text/plain": [
       "[1] 0.8471178"
      ]
     },
     "metadata": {},
     "output_type": "display_data"
    },
    {
     "name": "stdout",
     "output_type": "stream",
     "text": [
      "gbm base"
     ]
    },
    {
     "data": {
      "text/html": [
       "0.857142857142857"
      ],
      "text/latex": [
       "0.857142857142857"
      ],
      "text/markdown": [
       "0.857142857142857"
      ],
      "text/plain": [
       "[1] 0.8571429"
      ]
     },
     "metadata": {},
     "output_type": "display_data"
    },
    {
     "name": "stdout",
     "output_type": "stream",
     "text": [
      "gbm cv"
     ]
    },
    {
     "data": {
      "text/html": [
       "0.894736842105263"
      ],
      "text/latex": [
       "0.894736842105263"
      ],
      "text/markdown": [
       "0.894736842105263"
      ],
      "text/plain": [
       "[1] 0.8947368"
      ]
     },
     "metadata": {},
     "output_type": "display_data"
    },
    {
     "name": "stdout",
     "output_type": "stream",
     "text": [
      "glm"
     ]
    },
    {
     "data": {
      "text/html": [
       "0.822055137844611"
      ],
      "text/latex": [
       "0.822055137844611"
      ],
      "text/markdown": [
       "0.822055137844611"
      ],
      "text/plain": [
       "[1] 0.8220551"
      ]
     },
     "metadata": {},
     "output_type": "display_data"
    },
    {
     "name": "stdout",
     "output_type": "stream",
     "text": [
      "stacked glm"
     ]
    },
    {
     "data": {
      "text/html": [
       "0.887218045112782"
      ],
      "text/latex": [
       "0.887218045112782"
      ],
      "text/markdown": [
       "0.887218045112782"
      ],
      "text/plain": [
       "[1] 0.887218"
      ]
     },
     "metadata": {},
     "output_type": "display_data"
    }
   ],
   "source": [
    "#Compare the accuracies of each\n",
    "cat('rf base')\n",
    "mean(test_set$Class == test_set$rf_base)\n",
    "\n",
    "cat('rf cv')\n",
    "mean(test_set$Class == test_set$rf)\n",
    "\n",
    "cat('gbm base')\n",
    "\n",
    "mean(test_set$Class == test_set$gbm_base)\n",
    "\n",
    "cat('gbm cv')\n",
    "\n",
    "mean(test_set$Class == test_set$gbm)\n",
    "\n",
    "cat('glm')\n",
    "\n",
    "mean(test_set$Class == test_set$glm)\n",
    "\n",
    "cat('stacked glm')\n",
    "\n",
    "mean(test_set$Class == test_set$glm_stack)"
   ]
  },
  {
   "cell_type": "code",
   "execution_count": null,
   "metadata": {
    "collapsed": true
   },
   "outputs": [],
   "source": []
  }
 ],
 "metadata": {
  "kernelspec": {
   "display_name": "R",
   "language": "R",
   "name": "ir"
  },
  "language_info": {
   "codemirror_mode": "r",
   "file_extension": ".r",
   "mimetype": "text/x-r-source",
   "name": "R",
   "pygments_lexer": "r",
   "version": "3.4.2"
  }
 },
 "nbformat": 4,
 "nbformat_minor": 2
}
